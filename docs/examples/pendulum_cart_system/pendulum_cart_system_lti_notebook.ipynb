{
 "cells": [
  {
   "cell_type": "markdown",
   "metadata": {
    "collapsed": true,
    "pycharm": {
     "name": "#%% md\n"
    }
   },
   "source": [
    "Pendulum on a Cart\n",
    "==================\n",
    "\n",
    "Description of the problem\n",
    "--------------------------\n",
    "\n",
    "<img src=\"pendulum_cart_image.png\" width=\"400\" class=\"center\"/>\n",
    "\n",
    "Consider the dynamics of an inverted pendulum mounted to a motorized cart. The inverted pendulum system\n",
    "is a well-known example in control system literature due to its instability without control.\n",
    "In other words, the pendulum will fall over if the cart isn't moved to keep it balanced.\n",
    "This system has practical applications, such as the attitude control of a booster rocket during takeoff.\n",
    "\n",
    "\\begin{align}\n",
    "m\\ddot{x}(t) + c\\dot{x}(t) + kx(t) = F(t)\n",
    "\\end{align}\n",
    "\n",
    "where $m, c$ and $k$ are the mass, damping and spring constants. Variable $x(t)$ represents the\n",
    "displacement of the mass from the equilibrium and the external forcing is denoted by $F(t)$.\n",
    "In a first-order state-space form with $x_1 = x$ and $x_2 = \\dot{x}$, the continuous-time model\n",
    "(including its measurement equation) becomes\n",
    "\n",
    "\\begin{align}\n",
    "\\dot{\\boldsymbol{x}}(t) &= \\begin{bmatrix} \\dot{x}_1(t)\\\\ \\dot{x}_2(t) \\end{bmatrix} =\n",
    "\\begin{bmatrix} 0 & 1\\\\ -\\dfrac{k}{m} & -\\dfrac{c}{m} \\end{bmatrix}\n",
    "\\begin{bmatrix} x_1(t)\\\\ x_2(t) \\end{bmatrix} +\n",
    "\\begin{bmatrix} 0 \\\\ 1 \\end{bmatrix}F(t) =\n",
    "A_c\\boldsymbol{x}(t) + B_cu(t),\\\\\n",
    "\\boldsymbol{y}(t) &= \\begin{bmatrix} 1 & 0 \\\\ 0 & 1 \\end{bmatrix}\\begin{bmatrix} x_1(t)\\\\ x_2(t) \\end{bmatrix} =\n",
    "C\\boldsymbol{x}(t) + Du(t),\\\\\n",
    "\\end{align}\n",
    "where\n",
    "\\begin{align}\n",
    "A_c = \\begin{bmatrix} 0 & 1\\\\ -\\dfrac{k}{m} & -\\dfrac{c}{m} \\end{bmatrix}, \\quad\n",
    "B_c = \\begin{bmatrix} 0 \\\\ 1 \\end{bmatrix}, \\quad\n",
    "C = \\begin{bmatrix} 1 & 0 \\\\ 0 & 1 \\end{bmatrix}, \\quad\n",
    "D = \\begin{bmatrix} 0 \\\\ 0 \\end{bmatrix}.\n",
    "\\end{align}\n",
    "Assuming that $u(\\tau)$ is constant between sample times, i.e.\n",
    "$u(\\tau) = u(k\\Delta t)$ for $k\\Delta t\\leq \\tau < (k+1)\\Delta t$, let's define\n",
    "the discrete-time model\n",
    "\\begin{align}\n",
    "\\boldsymbol{x}_{k+1} &= A\\boldsymbol{x}_{k} + Bu_k,\\\\\n",
    "\\boldsymbol{y}_{k} &= C\\boldsymbol{x}_{k} + Du_k,\n",
    "\\end{align}\n",
    "where\n",
    "\\begin{align}\n",
    "A = e^{A_c\\Delta t}, \\quad\n",
    "B_c = \\int_{0}^{\\Delta t}e^{A_ct}\\mathrm{d}tB_c.\n",
    "\\end{align}\n",
    "Given a time-history of $\\boldsymbol{x}(t_k)$ and $u(t_k)$, the objective is to find a realization\n",
    "$(\\hat{A}, \\hat{B}, \\hat{C}, \\hat{D})$ of the discrete-time linear model.\n",
    "\n",
    "\n"
   ]
  }
 ],
 "metadata": {
  "kernelspec": {
   "display_name": "Python 3",
   "language": "python",
   "name": "python3"
  },
  "language_info": {
   "codemirror_mode": {
    "name": "ipython",
    "version": 2
   },
   "file_extension": ".py",
   "mimetype": "text/x-python",
   "name": "python",
   "nbconvert_exporter": "python",
   "pygments_lexer": "ipython2",
   "version": "2.7.6"
  }
 },
 "nbformat": 4,
 "nbformat_minor": 0
}
