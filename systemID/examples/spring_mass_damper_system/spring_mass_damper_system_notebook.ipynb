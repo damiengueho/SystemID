{
 "cells": [
  {
   "cell_type": "markdown",
   "metadata": {},
   "source": [
    "Spring Mass Damper System\n",
    "====================================\n",
    "\n",
    "Description of the problem\n",
    "--------------------------\n",
    "\n",
    "<img src=\"smdd.png\" width=\"400\" class=\"center\"/>\n",
    "\n",
    "Consider the dynamics of a damped spring mass system governed by a second order differential equation given by\n",
    "\n",
    "\\begin{align}\n",
    "m\\ddot{x}(t) + c\\dot{x}(t) + kx(t) = F(t)\n",
    "\\end{align}\n",
    "\n",
    "where $m, c$ and $k$ are the mass, damping and spring constants. Variable $x(t)$ represents the\n",
    "displacement of the mass from the equilibrium and the external forcing is denoted by $F(t)$.\n",
    "In a first-order state-space form with $x_1 = x$ and $x_2 = \\dot{x}$, the equations of motion can be written as\n",
    "\n",
    "\\begin{align}\n",
    "\\dot{\\boldsymbol{x}}(t) = \\begin{bmatrix} \\dot{x}_1(t)\\\\ \\dot{x}_2(t) \\end{bmatrix} =\n",
    "\\begin{bmatrix} 0 & 1\\\\ -\\dfrac{k}{m} & -\\dfrac{c}{m} \\end{bmatrix}\n",
    "\\begin{bmatrix} x_1(t)\\\\ x_2(t) \\end{bmatrix} +\n",
    "\\begin{bmatrix} 0 \\\\ 1 \\end{bmatrix}F(t) =\n",
    "A_c(t)\\boldsymbol{x}(t) + B_c(t)u(t).\n",
    "\\end{align}"
   ]
  },
  {
   "cell_type": "markdown",
   "source": [
    "Code\n",
    "--------------------------\n",
    "\n",
    "The code below shows how to use the python systemID package to find a linear representation\n",
    "of the dynamics of the damped spring mass system.\n",
    "\n",
    "Import all necessary packages"
   ],
   "metadata": {
    "collapsed": false
   }
  },
  {
   "cell_type": "code",
   "execution_count": 25,
   "metadata": {
    "pycharm": {
     "name": "#%%\n"
    }
   },
   "outputs": [],
   "source": [
    "import systemID as sysID\n",
    "\n",
    "import numpy as np\n",
    "import scipy.linalg as LA\n",
    "\n",
    "import matplotlib.pyplot as plt\n",
    "from matplotlib import rc\n",
    "plt.rcParams.update({\"text.usetex\": True, \"font.family\": \"sans-serif\", \"font.serif\": [\"Computer Modern Roman\"]})\n",
    "rc('text', usetex=True)\n",
    "plt.rcParams['text.latex.preamble'] = r\"\\usepackage{amsmath}\""
   ]
  },
  {
   "cell_type": "markdown",
   "metadata": {},
   "source": [
    "\\\n",
    "&nbsp;\n",
    "\\\n",
    "&nbsp;\n",
    "Define parameters"
   ]
  },
  {
   "cell_type": "code",
   "execution_count": 26,
   "metadata": {
    "pycharm": {
     "name": "#%%\n"
    }
   },
   "outputs": [],
   "source": [
    "m = 1\n",
    "c = 0.1\n",
    "k = 1\n",
    "\n",
    "state_dimension = 2\n",
    "input_dimension = 1\n",
    "output_dimension = 2\n",
    "\n",
    "frequency = 10\n",
    "dt = 1/frequency"
   ]
  },
  {
   "cell_type": "markdown",
   "metadata": {},
   "source": [
    "\\\n",
    "&nbsp;\n",
    "\\\n",
    "&nbsp;\n",
    "Create dynamics and associated linear system"
   ]
  },
  {
   "cell_type": "code",
   "execution_count": 27,
   "metadata": {
    "pycharm": {
     "name": "#%%\n"
    }
   },
   "outputs": [],
   "source": [
    "Ac = np.array([[0, 1], [-k/m, -c/m]])\n",
    "Bc = np.array([[0], [1]])\n",
    "\n",
    "# (Ad, Bd) = sysID.continuous_to_discrete_matrices(dt, Ac, Bc=Bc)\n",
    "#\n",
    "# def A(t):\n",
    "#     return Ad\n",
    "# def B(t):\n",
    "#     return Bd\n",
    "# def C(t):\n",
    "#     return np.eye(state_dimension)\n",
    "# def D(t):\n",
    "#     return np.zeros([output_dimension, input_dimension])\n",
    "#\n",
    "# x0 = np.zeros(state_dimension)\n",
    "# true_system = sysID.discrete_linear_model(frequency, x0, A, B=B, C=C, D=D)\n",
    "#"
   ]
  },
  {
   "cell_type": "markdown",
   "metadata": {},
   "source": [
    "\\\n",
    "&nbsp;\n",
    "\\\n",
    "&nbsp;\n",
    "Training"
   ]
  },
  {
   "cell_type": "code",
   "execution_count": 28,
   "metadata": {
    "pycharm": {
     "name": "#%%\n"
    }
   },
   "outputs": [],
   "source": [
    "# total_time_training = 5\n",
    "# number_steps_training = int(total_time_training * frequency + 1)\n",
    "# tspan_training = np.linspace(0, total_time_training, number_steps_training)\n",
    "#\n",
    "# input_training = sysID.discrete_signal(frequency=frequency, data=np.random.randn(number_steps_training))\n",
    "# output_training = sysID.propagate(input_training, true_system)[0]\n",
    "#"
   ]
  },
  {
   "cell_type": "markdown",
   "metadata": {},
   "source": [
    "\\\n",
    "&nbsp;\n",
    "\\\n",
    "&nbsp;\n",
    "Identification"
   ]
  },
  {
   "cell_type": "code",
   "execution_count": 29,
   "metadata": {
    "pycharm": {
     "name": "#%%\n"
    }
   },
   "outputs": [],
   "source": [
    "# observer_order = 10\n",
    "# okid_ = sysID.okid_with_observer([input_training], [output_training], observer_order=observer_order, number_of_parameters=50)\n",
    "#\n",
    "# p = 20\n",
    "# q = p\n",
    "# era_ = sysID.era(okid_.markov_parameters, state_dimension=state_dimension, p=p, q=q)\n",
    "#\n",
    "# fig = plt.figure(num=1, figsize=[6, 5])\n",
    "#\n",
    "# ax = fig.add_subplot(1, 1, 1)\n",
    "# ax.semilogy(np.linspace(1, 10, 10), np.diag(era_.Sigma)[0:10], '*', color=(253/255, 127/255, 35/255))\n",
    "# plt.ylabel(r'Amplitude of singular values', fontsize=15)\n",
    "# plt.xlabel(r'Singular value index', fontsize=15)\n",
    "# plt.title(r'Singular value plot from ERA', fontsize=18)\n",
    "# plt.xticks(fontsize=15)\n",
    "# plt.yticks(fontsize=15)\n",
    "#\n",
    "# plt.tight_layout()\n",
    "# plt.show()\n",
    "#\n",
    "# x0_id = np.zeros(state_dimension)\n",
    "# identified_system = sysID.discrete_linear_model(frequency, x0_id, era_.A, B=era_.B, C=era_.C, D=era_.D)\n",
    "#"
   ]
  },
  {
   "cell_type": "markdown",
   "metadata": {},
   "source": [
    "\\\n",
    "&nbsp;\n",
    "\\\n",
    "&nbsp;\n",
    "Testing"
   ]
  },
  {
   "cell_type": "code",
   "execution_count": 30,
   "metadata": {
    "pycharm": {
     "name": "#%%\n"
    }
   },
   "outputs": [],
   "source": [
    "# total_time_testing = 20\n",
    "# number_steps_testing = int(total_time_testing * frequency + 1)\n",
    "# tspan_testing = np.linspace(0, total_time_testing, number_steps_testing)\n",
    "#\n",
    "# input_testing = sysID.discrete_signal(frequency=frequency, data=np.sin(3 * tspan_testing))\n",
    "# output_testing_true = sysID.propagate(input_testing, true_system)[0]\n",
    "# output_testing_identified = sysID.propagate(input_testing, identified_system)[0]\n",
    "#"
   ]
  },
  {
   "cell_type": "markdown",
   "metadata": {},
   "source": [
    "\\\n",
    "&nbsp;\n",
    "\\\n",
    "&nbsp;\n",
    "Plotting"
   ]
  },
  {
   "cell_type": "code",
   "execution_count": 31,
   "metadata": {
    "pycharm": {
     "name": "#%%\n"
    }
   },
   "outputs": [],
   "source": [
    "# fig = plt.figure(num=2, figsize=[8, 5])\n",
    "#\n",
    "# ax = fig.add_subplot(2, 1, 1)\n",
    "# ax.plot(tspan_testing, output_testing_true.data[0, :], color=(11/255, 36/255, 251/255), label=r'True')\n",
    "# ax.plot(tspan_testing, output_testing_identified.data[0, :], '--', color=(221/255, 10/255, 22/255), label=r'Identified')\n",
    "# plt.ylabel(r'Position $x$', fontsize=15)\n",
    "# plt.title(r'Comparison True vs. Identified', fontsize=18)\n",
    "# ax.legend(loc='upper center', bbox_to_anchor=(1.18, 1.05), ncol=1, fontsize=15)\n",
    "# plt.xticks(fontsize=15)\n",
    "# plt.yticks(fontsize=15)\n",
    "#\n",
    "# ax = fig.add_subplot(2, 1, 2)\n",
    "# ax.plot(tspan_testing, output_testing_true.data[1, :], color=(11/255, 36/255, 251/255))\n",
    "# ax.plot(tspan_testing, output_testing_identified.data[1, :], '--', color=(221/255, 10/255, 22/255))\n",
    "# plt.xlabel(r'Time [sec]', fontsize=15)\n",
    "# plt.ylabel(r'Velocity $\\dot{x}$', fontsize=15)\n",
    "# plt.xticks(fontsize=15)\n",
    "# plt.yticks(fontsize=15)\n",
    "#\n",
    "# plt.tight_layout()\n",
    "# plt.show()\n",
    "#\n",
    "#\n",
    "# fig = plt.figure(num=3, figsize=[8, 3])\n",
    "#\n",
    "# ax = fig.add_subplot(1, 1, 1)\n",
    "# ax.plot(tspan_testing, LA.norm(output_testing_true.data - output_testing_identified.data, axis=0), color=(145/255, 145/255, 145/255), label=r'Error')\n",
    "# plt.ylabel(r'Norm of 2-norm error', fontsize=15)\n",
    "# plt.xlabel(r'Time [sec]', fontsize=15)\n",
    "# plt.title(r'Error True vs. Identified', fontsize=18)\n",
    "# ax.legend(loc='upper center', bbox_to_anchor=(1.18, 1.05), ncol=1, fontsize=15)\n",
    "# plt.xticks(fontsize=15)\n",
    "# plt.yticks(fontsize=15)\n",
    "#\n",
    "# plt.tight_layout()\n",
    "# plt.show()\n",
    "#"
   ]
  },
  {
   "cell_type": "markdown",
   "metadata": {},
   "source": [
    "\\\n",
    "&nbsp;\n",
    "\\\n",
    "&nbsp;\n",
    "Eigenvalues"
   ]
  },
  {
   "cell_type": "code",
   "execution_count": 32,
   "metadata": {
    "pycharm": {
     "name": "#%%\n"
    }
   },
   "outputs": [],
   "source": [
    "# ev_true = LA.eig(A(0))[0]\n",
    "# ev_identified = LA.eig(era_.A(0))[0]\n",
    "# print('True eigenvalues:', ev_true)\n",
    "# print('Identified eigenvalues:', ev_true)\n",
    "#\n",
    "# fig = plt.figure(num=4, figsize=[8, 6])\n",
    "#\n",
    "# ax = fig.add_subplot(1, 1, 1)\n",
    "# ax.plot(np.real(ev_true), np.imag(ev_true), '.', color=(11/255, 36/255, 251/255), label=r'True')\n",
    "# ax.plot(np.real(ev_identified), np.imag(ev_identified), 'o', mfc='none', color=(221/255, 10/255, 22/255), label=r'Identified')\n",
    "# plt.ylabel(r'Imaginary part', fontsize=15)\n",
    "# plt.xlabel(r'Real part', fontsize=15)\n",
    "# plt.title(r'Eigenvalues of the system matrix $A$', fontsize=18)\n",
    "# ax.legend(loc='upper center', bbox_to_anchor=(1.18, 1.02), ncol=1, fontsize=15)\n",
    "# plt.xticks(fontsize=15)\n",
    "# plt.yticks(fontsize=15)\n",
    "#\n",
    "# plt.tight_layout()\n",
    "# plt.show()"
   ]
  }
 ],
 "metadata": {
  "kernelspec": {
   "display_name": "Python 3 (ipykernel)",
   "language": "python",
   "name": "python3"
  },
  "language_info": {
   "codemirror_mode": {
    "name": "ipython",
    "version": 3
   },
   "file_extension": ".py",
   "mimetype": "text/x-python",
   "name": "python",
   "nbconvert_exporter": "python",
   "pygments_lexer": "ipython3",
   "version": "3.9.7"
  }
 },
 "nbformat": 4,
 "nbformat_minor": 1
}